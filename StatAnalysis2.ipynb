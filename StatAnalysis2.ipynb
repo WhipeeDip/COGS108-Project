{
 "cells": [
  {
   "cell_type": "code",
   "execution_count": 1,
   "metadata": {},
   "outputs": [
    {
     "name": "stderr",
     "output_type": "stream",
     "text": [
      "/opt/conda/lib/python3.6/site-packages/statsmodels/compat/pandas.py:56: FutureWarning: The pandas.core.datetools module is deprecated and will be removed in a future version. Please use the pandas.tseries module instead.\n",
      "  from pandas.core import datetools\n"
     ]
    }
   ],
   "source": [
    "import matplotlib.pyplot as plt \n",
    "import numpy as np\n",
    "import pandas as pd\n",
    "import patsy \n",
    "import scipy.stats as stats\n",
    "import statsmodels.api as sm\n",
    "from scipy.stats import ttest_ind"
   ]
  },
  {
   "cell_type": "code",
   "execution_count": 2,
   "metadata": {},
   "outputs": [
    {
     "data": {
      "text/html": [
       "<div>\n",
       "<style scoped>\n",
       "    .dataframe tbody tr th:only-of-type {\n",
       "        vertical-align: middle;\n",
       "    }\n",
       "\n",
       "    .dataframe tbody tr th {\n",
       "        vertical-align: top;\n",
       "    }\n",
       "\n",
       "    .dataframe thead th {\n",
       "        text-align: right;\n",
       "    }\n",
       "</style>\n",
       "<table border=\"1\" class=\"dataframe\">\n",
       "  <thead>\n",
       "    <tr style=\"text-align: right;\">\n",
       "      <th></th>\n",
       "      <th>ID</th>\n",
       "      <th>Pokemon</th>\n",
       "      <th>Legendary</th>\n",
       "      <th>Stat Total</th>\n",
       "      <th>ATK Sum</th>\n",
       "      <th>DEF Sum</th>\n",
       "      <th>Height</th>\n",
       "      <th>Weight</th>\n",
       "      <th>Type 1</th>\n",
       "      <th>Type 2</th>\n",
       "    </tr>\n",
       "  </thead>\n",
       "  <tbody>\n",
       "    <tr>\n",
       "      <th>0</th>\n",
       "      <td>1</td>\n",
       "      <td>bulbasaur</td>\n",
       "      <td>False</td>\n",
       "      <td>318</td>\n",
       "      <td>159</td>\n",
       "      <td>159</td>\n",
       "      <td>7</td>\n",
       "      <td>69</td>\n",
       "      <td>poison</td>\n",
       "      <td>grass</td>\n",
       "    </tr>\n",
       "    <tr>\n",
       "      <th>1</th>\n",
       "      <td>2</td>\n",
       "      <td>ivysaur</td>\n",
       "      <td>False</td>\n",
       "      <td>405</td>\n",
       "      <td>202</td>\n",
       "      <td>203</td>\n",
       "      <td>10</td>\n",
       "      <td>130</td>\n",
       "      <td>poison</td>\n",
       "      <td>grass</td>\n",
       "    </tr>\n",
       "    <tr>\n",
       "      <th>2</th>\n",
       "      <td>3</td>\n",
       "      <td>venusaur</td>\n",
       "      <td>False</td>\n",
       "      <td>525</td>\n",
       "      <td>262</td>\n",
       "      <td>263</td>\n",
       "      <td>20</td>\n",
       "      <td>1000</td>\n",
       "      <td>poison</td>\n",
       "      <td>grass</td>\n",
       "    </tr>\n",
       "    <tr>\n",
       "      <th>3</th>\n",
       "      <td>4</td>\n",
       "      <td>charmander</td>\n",
       "      <td>False</td>\n",
       "      <td>309</td>\n",
       "      <td>177</td>\n",
       "      <td>132</td>\n",
       "      <td>6</td>\n",
       "      <td>85</td>\n",
       "      <td>fire</td>\n",
       "      <td>NaN</td>\n",
       "    </tr>\n",
       "    <tr>\n",
       "      <th>4</th>\n",
       "      <td>5</td>\n",
       "      <td>charmeleon</td>\n",
       "      <td>False</td>\n",
       "      <td>405</td>\n",
       "      <td>224</td>\n",
       "      <td>181</td>\n",
       "      <td>11</td>\n",
       "      <td>190</td>\n",
       "      <td>fire</td>\n",
       "      <td>NaN</td>\n",
       "    </tr>\n",
       "  </tbody>\n",
       "</table>\n",
       "</div>"
      ],
      "text/plain": [
       "   ID     Pokemon  Legendary  Stat Total  ATK Sum  DEF Sum  Height  Weight  \\\n",
       "0   1   bulbasaur      False         318      159      159       7      69   \n",
       "1   2     ivysaur      False         405      202      203      10     130   \n",
       "2   3    venusaur      False         525      262      263      20    1000   \n",
       "3   4  charmander      False         309      177      132       6      85   \n",
       "4   5  charmeleon      False         405      224      181      11     190   \n",
       "\n",
       "   Type 1 Type 2  \n",
       "0  poison  grass  \n",
       "1  poison  grass  \n",
       "2  poison  grass  \n",
       "3    fire    NaN  \n",
       "4    fire    NaN  "
      ]
     },
     "execution_count": 2,
     "metadata": {},
     "output_type": "execute_result"
    }
   ],
   "source": [
    "statsDF = pd.read_csv('statsDF.csv')\n",
    "statsDF = statsDF.drop(columns=['Unnamed: 0'])\n",
    "statsDF.head()"
   ]
  },
  {
   "cell_type": "code",
   "execution_count": 3,
   "metadata": {},
   "outputs": [],
   "source": [
    "def convert_label(label):\n",
    "    if label == True:\n",
    "        return 1.0\n",
    "    elif label == False:\n",
    "        return 0.0\n",
    "    else:\n",
    "        return label"
   ]
  },
  {
   "cell_type": "code",
   "execution_count": 4,
   "metadata": {},
   "outputs": [],
   "source": [
    "statsDF['Legend'] = statsDF.iloc[:, 2]\n",
    "statsDF['Legend'] = statsDF['Legend'].apply(convert_label)"
   ]
  },
  {
   "cell_type": "markdown",
   "metadata": {},
   "source": [
    "# Histogram with the Hypothetical Normal Distribution"
   ]
  },
  {
   "cell_type": "code",
   "execution_count": 5,
   "metadata": {},
   "outputs": [],
   "source": [
    "l_height = statsDF[statsDF['Legendary'].astype(str) == 'True']['Height'].values\n",
    "n_height = statsDF[statsDF['Legendary'].astype(str) == 'False']['Height'].values"
   ]
  },
  {
   "cell_type": "code",
   "execution_count": 6,
   "metadata": {},
   "outputs": [
    {
     "data": {
      "image/png": "[encoded data removed]",
      "text/plain": [
       "<Figure size 432x288 with 1 Axes>"
      ]
     },
     "metadata": {
      "needs_background": "light"
     },
     "output_type": "display_data"
    }
   ],
   "source": [
    "xs = np.arange(l_height.min(), l_height.max())\n",
    "fit = stats.norm.pdf(xs, np.mean(l_height), np.std(l_height))\n",
    "plt.plot(xs, fit, label='Normal Dist', lw=4)\n",
    "plt.hist(l_height, density=True, label='Actual Data', bins=50);\n",
    "plt.xlim((0, 80))\n",
    "plt.title('Legendary - Height Data')\n",
    "plt.legend();"
   ]
  },
  {
   "cell_type": "code",
   "execution_count": 7,
   "metadata": {},
   "outputs": [
    {
     "data": {
      "image/png": "[encoded data removed]",
      "text/plain": [
       "<Figure size 432x288 with 1 Axes>"
      ]
     },
     "metadata": {
      "needs_background": "light"
     },
     "output_type": "display_data"
    }
   ],
   "source": [
    "xs = np.arange(n_height.min(), n_height.max())\n",
    "fit = stats.norm.pdf(xs, np.mean(n_height), np.std(n_height))\n",
    "plt.plot(xs, fit, label='Normal Dist', lw = 4)\n",
    "plt.hist(n_height, density=True, label='Actual Data', bins = 50);\n",
    "plt.xlim((0, 80))\n",
    "plt.title('Non-Legendary - Height Data')\n",
    "plt.legend();"
   ]
  },
  {
   "cell_type": "markdown",
   "metadata": {},
   "source": [
    "# Compare the two height distributions (Legendary vs Non-Legendary Height)"
   ]
  },
  {
   "cell_type": "code",
   "execution_count": 8,
   "metadata": {},
   "outputs": [],
   "source": [
    "t_val = ttest_ind(l_height, n_height).statistic\n",
    "p_val = ttest_ind(l_height, n_height).pvalue"
   ]
  },
  {
   "cell_type": "code",
   "execution_count": 9,
   "metadata": {},
   "outputs": [
    {
     "name": "stdout",
     "output_type": "stream",
     "text": [
      "There is a significant difference!\n"
     ]
    }
   ],
   "source": [
    "if p_val < 0.01:\n",
    "    print('There is a significant difference!')\n",
    "else:\n",
    "    print('There is NOT a significant difference!')"
   ]
  },
  {
   "cell_type": "markdown",
   "metadata": {},
   "source": [
    "If p-value <= alpha significance value of 0.01, then reject the null hypothesis, and the result is statistically significant. If p-value >= alpha significance value of 0.01, then fail to reject the null hypothesis, and the result is statistically nonsignificant."
   ]
  },
  {
   "cell_type": "markdown",
   "metadata": {},
   "source": [
    "Research Question: Legendary Pokémon are extremely large in size. Null Hypothesis: Legendary Pokémon are not large in size. Since there is a significant difference, we reject the null hypothesis and say that Legendary Pokémons are large in size."
   ]
  },
  {
   "cell_type": "markdown",
   "metadata": {},
   "source": [
    "# Multivariate Regression"
   ]
  },
  {
   "cell_type": "code",
   "execution_count": 10,
   "metadata": {},
   "outputs": [],
   "source": [
    "pv = pd.pivot_table(data=statsDF, values='Legend', index=['Height'])"
   ]
  },
  {
   "cell_type": "code",
   "execution_count": 11,
   "metadata": {},
   "outputs": [
    {
     "name": "stdout",
     "output_type": "stream",
     "text": [
      "                            OLS Regression Results                            \n",
      "==============================================================================\n",
      "Dep. Variable:                 Legend   R-squared:                       0.064\n",
      "Model:                            OLS   Adj. R-squared:                  0.063\n",
      "Method:                 Least Squares   F-statistic:                     55.40\n",
      "Date:                Tue, 04 Jun 2019   Prob (F-statistic):           2.53e-13\n",
      "Time:                        13:48:15   Log-Likelihood:                -84.526\n",
      "No. Observations:                 807   AIC:                             173.1\n",
      "Df Residuals:                     805   BIC:                             182.4\n",
      "Df Model:                           1                                         \n",
      "Covariance Type:            nonrobust                                         \n",
      "==============================================================================\n",
      "                 coef    std err          t      P>|t|      [0.025      0.975]\n",
      "------------------------------------------------------------------------------\n",
      "Intercept      0.0084      0.014      0.605      0.545      -0.019       0.036\n",
      "Height         0.0065      0.001      7.443      0.000       0.005       0.008\n",
      "==============================================================================\n",
      "Omnibus:                      455.195   Durbin-Watson:                   0.483\n",
      "Prob(Omnibus):                  0.000   Jarque-Bera (JB):             2471.980\n",
      "Skew:                           2.685   Prob(JB):                         0.00\n",
      "Kurtosis:                       9.684   Cond. No.                         23.4\n",
      "==============================================================================\n",
      "\n",
      "Warnings:\n",
      "[1] Standard Errors assume that the covariance matrix of the errors is correctly specified.\n"
     ]
    }
   ],
   "source": [
    "outcome, predictors = patsy.dmatrices('Legend ~ Height', statsDF)\n",
    "mod = sm.OLS(outcome , predictors)\n",
    "res = mod.fit()\n",
    "print(res.summary())"
   ]
  },
  {
   "cell_type": "code",
   "execution_count": 12,
   "metadata": {},
   "outputs": [
    {
     "data": {
      "text/plain": [
       "array([  5.45124504e-01,   2.53077037e-13])"
      ]
     },
     "execution_count": 12,
     "metadata": {},
     "output_type": "execute_result"
    }
   ],
   "source": [
    "res.pvalues"
   ]
  },
  {
   "cell_type": "markdown",
   "metadata": {},
   "source": [
    "The OLS model that predicts whether a Pokémon is Legendary based on height produces the result of p-value 0.000 (not exactly 0, but close - shown by the res pvalues), which is less than the alpha significance value of 0.01. This shows that the result is highly statistically significant, and we reject the null hypothesis and claim that Legendary Pokémon tend to have large Heights. "
   ]
  },
  {
   "cell_type": "code",
   "execution_count": 13,
   "metadata": {},
   "outputs": [],
   "source": [
    "pv = pd.pivot_table(data=statsDF, values='Legend', index=['Height', 'Weight'])"
   ]
  },
  {
   "cell_type": "code",
   "execution_count": 14,
   "metadata": {},
   "outputs": [
    {
     "name": "stdout",
     "output_type": "stream",
     "text": [
      "                            OLS Regression Results                            \n",
      "==============================================================================\n",
      "Dep. Variable:                 Legend   R-squared:                       0.096\n",
      "Model:                            OLS   Adj. R-squared:                  0.094\n",
      "Method:                 Least Squares   F-statistic:                     42.80\n",
      "Date:                Tue, 04 Jun 2019   Prob (F-statistic):           2.17e-18\n",
      "Time:                        13:48:15   Log-Likelihood:                -70.559\n",
      "No. Observations:                 807   AIC:                             147.1\n",
      "Df Residuals:                     804   BIC:                             161.2\n",
      "Df Model:                           2                                         \n",
      "Covariance Type:            nonrobust                                         \n",
      "==============================================================================\n",
      "                 coef    std err          t      P>|t|      [0.025      0.975]\n",
      "------------------------------------------------------------------------------\n",
      "Intercept      0.0168      0.014      1.221      0.223      -0.010       0.044\n",
      "Height         0.0027      0.001      2.451      0.014       0.001       0.005\n",
      "Weight      5.765e-05   1.08e-05      5.321      0.000    3.64e-05    7.89e-05\n",
      "==============================================================================\n",
      "Omnibus:                      449.117   Durbin-Watson:                   0.569\n",
      "Prob(Omnibus):                  0.000   Jarque-Bera (JB):             2475.503\n",
      "Skew:                           2.628   Prob(JB):                         0.00\n",
      "Kurtosis:                       9.782   Cond. No.                     1.89e+03\n",
      "==============================================================================\n",
      "\n",
      "Warnings:\n",
      "[1] Standard Errors assume that the covariance matrix of the errors is correctly specified.\n",
      "[2] The condition number is large, 1.89e+03. This might indicate that there are\n",
      "strong multicollinearity or other numerical problems.\n"
     ]
    }
   ],
   "source": [
    "outcome_1, predictors_1 = patsy.dmatrices('Legend ~ Height + Weight', statsDF)\n",
    "mod_1 = sm.OLS(outcome_1, predictors_1)\n",
    "res_1 = mod_1.fit()\n",
    "print(res_1.summary())"
   ]
  },
  {
   "cell_type": "code",
   "execution_count": 15,
   "metadata": {},
   "outputs": [
    {
     "data": {
      "text/plain": [
       "array([  2.22629973e-01,   1.44568860e-02,   1.33603658e-07])"
      ]
     },
     "execution_count": 15,
     "metadata": {},
     "output_type": "execute_result"
    }
   ],
   "source": [
    "res_1.pvalues"
   ]
  },
  {
   "cell_type": "markdown",
   "metadata": {},
   "source": [
    "The OLS model predicting whether a Pokémon is Legendary based on Height and Weight produces a p-value of 0.014, which is greater than the alpha significance value. This tells us that Height is not statistically significant in this case, and we fail to reject the null hypothesis - that height does not predict if a Pokémon is Legendary. However, the p-value for Weight is 0.000 and, like above, is highly statistically significant. Therefore we can say that heavy weight is a strong indicator of a Legendary Pokémon.       "
   ]
  }
 ],
 "metadata": {
  "kernelspec": {
   "display_name": "Python 3",
   "language": "python",
   "name": "python3"
  },
  "language_info": {
   "codemirror_mode": {
    "name": "ipython",
    "version": 3
   },
   "file_extension": ".py",
   "mimetype": "text/x-python",
   "name": "python",
   "nbconvert_exporter": "python",
   "pygments_lexer": "ipython3",
   "version": "3.6.7"
  }
 },
 "nbformat": 4,
 "nbformat_minor": 2
}
