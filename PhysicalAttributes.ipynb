{
 "cells": [
  {
   "cell_type": "code",
   "execution_count": 1,
   "metadata": {},
   "outputs": [
    {
     "name": "stdout",
     "output_type": "stream",
     "text": [
      "Requirement already satisfied: pokebase in /Users/RyanKeng/anaconda3/envs/py36/lib/python3.6/site-packages (1.2.0)\n",
      "Requirement already satisfied: requests in /Users/RyanKeng/anaconda3/envs/py36/lib/python3.6/site-packages (from pokebase) (2.21.0)\n",
      "Requirement already satisfied: urllib3<1.25,>=1.21.1 in /Users/RyanKeng/anaconda3/envs/py36/lib/python3.6/site-packages (from requests->pokebase) (1.24.3)\n",
      "Requirement already satisfied: certifi>=2017.4.17 in /Users/RyanKeng/anaconda3/envs/py36/lib/python3.6/site-packages (from requests->pokebase) (2018.10.15)\n",
      "Requirement already satisfied: chardet<3.1.0,>=3.0.2 in /Users/RyanKeng/anaconda3/envs/py36/lib/python3.6/site-packages (from requests->pokebase) (3.0.4)\n",
      "Requirement already satisfied: idna<2.9,>=2.5 in /Users/RyanKeng/anaconda3/envs/py36/lib/python3.6/site-packages (from requests->pokebase) (2.7)\n",
      "\u001b[33mYou are using pip version 18.0, however version 19.1.1 is available.\n",
      "You should consider upgrading via the 'pip install --upgrade pip' command.\u001b[0m\n",
      "Requirement already satisfied: beautifulsoup4 in /Users/RyanKeng/anaconda3/envs/py36/lib/python3.6/site-packages (4.7.1)\n",
      "Requirement already satisfied: soupsieve>=1.2 in /Users/RyanKeng/anaconda3/envs/py36/lib/python3.6/site-packages (from beautifulsoup4) (1.9.1)\n",
      "\u001b[33mYou are using pip version 18.0, however version 19.1.1 is available.\n",
      "You should consider upgrading via the 'pip install --upgrade pip' command.\u001b[0m\n"
     ]
    }
   ],
   "source": [
    "import sys\n",
    "!{sys.executable} -m pip install pokebase\n",
    "!{sys.executable} -m pip install beautifulsoup4"
   ]
  },
  {
   "cell_type": "code",
   "execution_count": 2,
   "metadata": {},
   "outputs": [],
   "source": [
    "import pokebase as pb\n",
    "import pandas as pd"
   ]
  },
  {
   "cell_type": "code",
   "execution_count": 3,
   "metadata": {},
   "outputs": [],
   "source": [
    "df = pd.read_csv('statsDF.csv')"
   ]
  },
  {
   "cell_type": "code",
   "execution_count": 4,
   "metadata": {},
   "outputs": [
    {
     "data": {
      "text/plain": [
       "<matplotlib.axes._subplots.AxesSubplot at 0x118922550>"
      ]
     },
     "execution_count": 4,
     "metadata": {},
     "output_type": "execute_result"
    }
   ],
   "source": [
    "df[['Height', 'Weight']].plot('Weight', 'Height', kind='scatter')"
   ]
  },
  {
   "cell_type": "markdown",
   "metadata": {},
   "source": [
    "## Get list of legendary Pokemon"
   ]
  },
  {
   "cell_type": "code",
   "execution_count": 5,
   "metadata": {},
   "outputs": [],
   "source": [
    "import requests\n",
    "from bs4 import BeautifulSoup\n",
    "\n",
    "# scrape list of legendary and mystical pokemon from bulbapedia\n",
    "page = requests.get(\"https://bulbapedia.bulbagarden.net/wiki/Legendary_Pok%C3%A9mon\")\n",
    "soup = BeautifulSoup(page.content, 'html.parser')\n",
    "\n",
    "# list of <a> tags of legendary pokemon\n",
    "a_list = soup.select('td a[title*=\"(Pokémon)\"]')\n",
    "\n",
    "# extract text from <a> tags\n",
    "legend_list = [lp.get_text() for lp in a_list]\n",
    "\n",
    "# data cleaning: replace whitespace with hyphen, remove colon\n",
    "legend_list = [p.lower().replace(' ', '-').replace(':', '') for p in legend_list]\n",
    "\n",
    "# deoxys: deoxys-normal, deoxys-attack, deoxys-defense, deoxys-speed\n",
    "try:\n",
    "    legend_list.remove('deoxys')\n",
    "    legend_list.extend(['deoxys-normal', 'deoxys-attack', 'deoxys-defense', 'deoxys-speed'])\n",
    "except ValueError:\n",
    "    print('Error')\n",
    "\n",
    "# giratina: giratina-altered, giratina-origin\n",
    "try:\n",
    "    legend_list.remove('giratina')\n",
    "    legend_list.extend(['giratina-altered', 'giratina-origin'])\n",
    "except ValueError:\n",
    "    print('Error')\n",
    "\n",
    "# shaymin: shaymin-land, shaymin-sky\n",
    "try:\n",
    "    legend_list.remove('shaymin')\n",
    "    legend_list.extend(['shaymin-land', 'shaymin-sky'])\n",
    "except ValueError:\n",
    "    print('Error')\n",
    "\n",
    "# tornadus: tornadus-incarnate, tornadus-therian\n",
    "try:\n",
    "    legend_list.remove('tornadus')\n",
    "    legend_list.extend(['tornadus-incarnate', 'tornadus-therian'])\n",
    "except ValueError:\n",
    "    print('Error')\n",
    "\n",
    "# thundurus: thundurus-incarnate, thundurus-therian\n",
    "try:\n",
    "    legend_list.remove('thundurus')\n",
    "    legend_list.extend(['thundurus-incarnate', 'thundurus-therian'])\n",
    "except ValueError:\n",
    "    print('Error')\n",
    "\n",
    "# landorus: landorus-incarnate, landorus-therian\n",
    "try:\n",
    "    legend_list.remove('landorus')\n",
    "    legend_list.extend(['landorus-incarnate', 'landorus-therian'])\n",
    "except ValueError:\n",
    "    print('Error')\n",
    "\n",
    "# keldeo: keldeo-ordinary, keldeo-resolute\n",
    "try:\n",
    "    legend_list.remove('keldeo')\n",
    "    legend_list.extend(['keldeo-ordinary', 'keldeo-resolute'])\n",
    "except ValueError:\n",
    "    print('Error')\n",
    "\n",
    "# meloetta: meloetta-aria, meloetta-pirouette\n",
    "try:\n",
    "    legend_list.remove('meloetta')\n",
    "    legend_list.extend(['meloetta-aria', 'meloetta-pirouette'])\n",
    "except ValueError:\n",
    "    print('Error')\n",
    "\n",
    "# meltan: remove for now\n",
    "try:\n",
    "    legend_list.remove('meltan')\n",
    "except ValueError:\n",
    "    print('Error')\n",
    "\n",
    "# melmetal: remove for now\n",
    "try:\n",
    "    legend_list.remove('melmetal')\n",
    "except ValueError:\n",
    "    print('Error')"
   ]
  },
  {
   "cell_type": "markdown",
   "metadata": {},
   "source": [
    "## Non-legendaries (Weight vs. Height)"
   ]
  },
  {
   "cell_type": "code",
   "execution_count": 6,
   "metadata": {},
   "outputs": [
    {
     "data": {
      "text/plain": [
       "<matplotlib.axes._subplots.AxesSubplot at 0x11b23cc50>"
      ]
     },
     "execution_count": 6,
     "metadata": {},
     "output_type": "execute_result"
    },
    {
     "data": {
      "image/png": "[encoded data removed]",
      "text/plain": [
       "<Figure size 432x288 with 1 Axes>"
      ]
     },
     "metadata": {
      "needs_background": "light"
     },
     "output_type": "display_data"
    }
   ],
   "source": [
    "df[~df['Pokemon'].isin(legend_list)][['Height', 'Weight']].plot.scatter('Weight', 'Height')"
   ]
  },
  {
   "cell_type": "markdown",
   "metadata": {},
   "source": [
    "## Legendaries (Weight vs. Height)"
   ]
  },
  {
   "cell_type": "code",
   "execution_count": 7,
   "metadata": {},
   "outputs": [
    {
     "data": {
      "text/plain": [
       "<matplotlib.axes._subplots.AxesSubplot at 0x11b546710>"
      ]
     },
     "execution_count": 7,
     "metadata": {},
     "output_type": "execute_result"
    },
    {
     "data": {
      "image/png": "[encoded data removed]",
      "text/plain": [
       "<Figure size 432x288 with 1 Axes>"
      ]
     },
     "metadata": {
      "needs_background": "light"
     },
     "output_type": "display_data"
    }
   ],
   "source": [
    "df[df['Pokemon'].isin(legend_list)][['Height', 'Weight']].plot.scatter('Weight', 'Height', c='orange')"
   ]
  },
  {
   "cell_type": "markdown",
   "metadata": {},
   "source": [
    "## Combined (Weight vs. Height)"
   ]
  },
  {
   "cell_type": "code",
   "execution_count": 8,
   "metadata": {},
   "outputs": [
    {
     "data": {
      "text/plain": [
       "<matplotlib.axes._subplots.AxesSubplot at 0x11b80ee48>"
      ]
     },
     "execution_count": 8,
     "metadata": {},
     "output_type": "execute_result"
    },
    {
     "data": {
      "image/png": "[encoded data removed]",
      "text/plain": [
       "<Figure size 432x288 with 1 Axes>"
      ]
     },
     "metadata": {
      "needs_background": "light"
     },
     "output_type": "display_data"
    }
   ],
   "source": [
    "ax = df[~df['Pokemon'].isin(legend_list)][['Height', 'Weight']].plot('Weight', 'Height', kind='scatter')\n",
    "df[df['Pokemon'].isin(legend_list)][['Height', 'Weight']].plot('Weight', 'Height', kind='scatter', c='orange', ax=ax)"
   ]
  },
  {
   "cell_type": "code",
   "execution_count": null,
   "metadata": {},
   "outputs": [],
   "source": []
  }
 ],
 "metadata": {
  "kernelspec": {
   "display_name": "Python 3",
   "language": "python",
   "name": "python3"
  },
  "language_info": {
   "codemirror_mode": {
    "name": "ipython",
    "version": 3
   },
   "file_extension": ".py",
   "mimetype": "text/x-python",
   "name": "python",
   "nbconvert_exporter": "python",
   "pygments_lexer": "ipython3",
   "version": "3.6.7"
  }
 },
 "nbformat": 4,
 "nbformat_minor": 2
}
