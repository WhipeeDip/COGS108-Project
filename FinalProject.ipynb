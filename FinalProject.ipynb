{
 "cells": [
  {
   "cell_type": "markdown",
   "metadata": {
    "colab_type": "text",
    "id": "F9bp1r-UK7gk"
   },
   "source": [
    "## Install a pip package in the current Jupyter kernel"
   ]
  },
  {
   "cell_type": "code",
   "execution_count": null,
   "metadata": {
    "colab": {
     "base_uri": "https://localhost:8080/",
     "height": 119
    },
    "colab_type": "code",
    "id": "n25zgJ5dJfe6",
    "outputId": "a0e4b113-0e3d-4986-b46c-590985033751"
   },
   "outputs": [],
   "source": [
    "import sys\n",
    "!{sys.executable} -m pip install pokebase"
   ]
  },
  {
   "cell_type": "markdown",
   "metadata": {
    "colab_type": "text",
    "id": "zSJfMeuqLKwO"
   },
   "source": [
    "## Import PokeAPI wrapper library for  Python 3"
   ]
  },
  {
   "cell_type": "code",
   "execution_count": null,
   "metadata": {
    "colab": {},
    "colab_type": "code",
    "id": "Ogj8ptAyKGme"
   },
   "outputs": [],
   "source": [
    "import pokebase as pb"
   ]
  },
  {
   "cell_type": "markdown",
   "metadata": {
    "colab_type": "text",
    "id": "rkBRF98VLXKt"
   },
   "source": [
    "## Quick lookup"
   ]
  },
  {
   "cell_type": "code",
   "execution_count": null,
   "metadata": {
    "colab": {
     "base_uri": "https://localhost:8080/",
     "height": 51
    },
    "colab_type": "code",
    "id": "QdiKqT0tKh4X",
    "outputId": "4263c285-aed7-41d4-d869-e9d758a96bf9"
   },
   "outputs": [],
   "source": [
    "rayquaza = pb.pokemon('rayquaza')\n",
    "print(rayquaza.height)\n",
    "print(rayquaza.weight)\n",
    "rayquaza.types[1]"
   ]
  },
  {
   "cell_type": "code",
   "execution_count": null,
   "metadata": {
    "colab": {
     "base_uri": "https://localhost:8080/",
     "height": 51
    },
    "colab_type": "code",
    "id": "u5w1Wm40KrYX",
    "outputId": "60b08c20-fefe-4ccb-824d-fe5dbaf69111"
   },
   "outputs": [],
   "source": [
    "import re\n",
    "myS = str(rayquaza.types[1])\n",
    "mySt = re.findall('\\'name\\': \\'(.+?)\\'', myS)\n",
    "mySt"
   ]
  },
  {
   "cell_type": "code",
   "execution_count": null,
   "metadata": {
    "colab": {
     "base_uri": "https://localhost:8080/",
     "height": 119
    },
    "colab_type": "code",
    "id": "p1pDOgHyNdaH",
    "outputId": "97f4d1e7-49c9-454e-cf1f-490e7f11a1c4"
   },
   "outputs": [],
   "source": [
    "rayquaza.stats"
   ]
  },
  {
   "cell_type": "code",
   "execution_count": null,
   "metadata": {},
   "outputs": [],
   "source": [
    "statsDic = {}\n",
    "for pokemon in smogon_df['Pokemon']:\n",
    "  pokemon_stats = []\n",
    "  pokemon_info = pb.pokemon(pokemon.lower())\n",
    "  for i in (pokemon_info.stats):\n",
    "    pokemon_stats.append(str(i)[14:17])\n",
    "  statsDic[pokemon] = pokemon_stats\n"
   ]
  },
  {
   "cell_type": "markdown",
   "metadata": {
    "colab_type": "text",
    "id": "MHxfVJQfJIkf"
   },
   "source": [
    "## Obtain list of legendary and mystical pokemon from Bulbapedia"
   ]
  },
  {
   "cell_type": "code",
   "execution_count": null,
   "metadata": {
    "colab": {
     "base_uri": "https://localhost:8080/",
     "height": 1207
    },
    "colab_type": "code",
    "id": "ZBpves8WAUAh",
    "outputId": "7500dcc4-5053-43e3-be23-1e6fad9d2283"
   },
   "outputs": [],
   "source": [
    "import requests\n",
    "from bs4 import BeautifulSoup\n",
    "\n",
    "# scrape list of legendary and mystical pokemon from bulbapedia\n",
    "page = requests.get(\"https://bulbapedia.bulbagarden.net/wiki/Legendary_Pok%C3%A9mon\")\n",
    "soup = BeautifulSoup(page.content, 'html.parser')\n",
    "\n",
    "# list of <a> tags of legendary pokemon\n",
    "a_list = soup.select('td[style*=\"background: #e6e6ff\"] a')\n",
    "\n",
    "# extract text from <a> tags\n",
    "legend_list = [lp.get_text() for lp in a_list]\n",
    "\n",
    "# data cleaning: replace whitespace with hyphen, remove colon\n",
    "legend_list = [p.lower().replace(' ', '-').replace(':', '') for p in legend_list]\n",
    "legend_list_smogon = legend_list.copy()\n",
    "legend_list"
   ]
  },
  {
   "cell_type": "markdown",
   "metadata": {
    "colab_type": "text",
    "id": "JdrXsuZlKc26"
   },
   "source": [
    "## After scraping and cleaning, test for validity by searching for each name in the API"
   ]
  },
  {
   "cell_type": "code",
   "execution_count": null,
   "metadata": {
    "colab": {
     "base_uri": "https://localhost:8080/",
     "height": 187
    },
    "colab_type": "code",
    "id": "mMAUfppCG8v6",
    "outputId": "4e7dac0f-f86c-42e2-fddf-a1cf766653db"
   },
   "outputs": [],
   "source": [
    "for p in legend_list:\n",
    "  try:\n",
    "    pb.pokemon(p)\n",
    "  except ValueError:\n",
    "    print(\"Cannot find\", p)"
   ]
  },
  {
   "cell_type": "markdown",
   "metadata": {
    "colab_type": "text",
    "id": "wcgNG2SGLcI_"
   },
   "source": [
    "## The above Pokemon have alternate forms and we must handle each manually\n",
    "\n",
    "P.S. Meltan and Melmetal haven't been added to the database at the moment. https://github.com/PokeAPI/pokeapi/issues/414"
   ]
  },
  {
   "cell_type": "code",
   "execution_count": null,
   "metadata": {
    "colab": {},
    "colab_type": "code",
    "id": "LQwJAJZ7J2Ah"
   },
   "outputs": [],
   "source": [
    "# deoxys: deoxys-normal, deoxys-attack, deoxys-defense, deoxys-speed\n",
    "try:\n",
    "  legend_list.remove('deoxys')\n",
    "  legend_list.extend(['deoxys-normal', 'deoxys-attack', 'deoxys-defense', 'deoxys-speed'])\n",
    "except ValueError:\n",
    "  print('Error')\n",
    "\n",
    "# giratina: giratina-altered, giratina-origin\n",
    "try:\n",
    "  legend_list.remove('giratina')\n",
    "  legend_list.extend(['giratina-altered', 'giratina-origin'])\n",
    "except ValueError:\n",
    "  print('Error')\n",
    "\n",
    "# shaymin: shaymin-land, shaymin-sky\n",
    "try:\n",
    "  legend_list.remove('shaymin')\n",
    "  legend_list.extend(['shaymin-land', 'shaymin-sky'])\n",
    "except ValueError:\n",
    "  print('Error')\n",
    "\n",
    "# tornadus: tornadus-incarnate, tornadus-therian\n",
    "try:\n",
    "  legend_list.remove('tornadus')\n",
    "  legend_list.extend(['tornadus-incarnate', 'tornadus-therian'])\n",
    "except ValueError:\n",
    "  print('Error')\n",
    "\n",
    "# thundurus: thundurus-incarnate, thundurus-therian\n",
    "try:\n",
    "  legend_list.remove('thundurus')\n",
    "  legend_list.extend(['thundurus-incarnate', 'thundurus-therian'])\n",
    "except ValueError:\n",
    "  print('Error')\n",
    "\n",
    "# landorus: landorus-incarnate, landorus-therian\n",
    "try:\n",
    "  legend_list.remove('landorus')\n",
    "  legend_list.extend(['landorus-incarnate', 'landorus-therian'])\n",
    "except ValueError:\n",
    "  print('Error')\n",
    "\n",
    "# keldeo: keldeo-ordinary, keldeo-resolute\n",
    "try:\n",
    "  legend_list.remove('keldeo')\n",
    "  legend_list.extend(['keldeo-ordinary', 'keldeo-resolute'])\n",
    "except ValueError:\n",
    "  print('Error')\n",
    "\n",
    "# meloetta: meloetta-aria, meloetta-pirouette\n",
    "try:\n",
    "  legend_list.remove('meloetta')\n",
    "  legend_list.extend(['meloetta-aria', 'meloetta-pirouette'])\n",
    "except ValueError:\n",
    "  print('Error')\n",
    "\n",
    "# meltan: remove for now\n",
    "try:\n",
    "  legend_list.remove('meltan')\n",
    "except ValueError:\n",
    "  print('Error')\n",
    "\n",
    "# melmetal: remove for now\n",
    "try:\n",
    "  legend_list.remove('melmetal')\n",
    "except ValueError:\n",
    "  print('Error')"
   ]
  },
  {
   "cell_type": "markdown",
   "metadata": {
    "colab_type": "text",
    "id": "5BZbiJRxTzPm"
   },
   "source": [
    "## Test again for validity"
   ]
  },
  {
   "cell_type": "code",
   "execution_count": null,
   "metadata": {
    "colab": {},
    "colab_type": "code",
    "id": "U9STW874Q1Hy"
   },
   "outputs": [],
   "source": [
    "for p in legend_list:\n",
    "  try:\n",
    "    pb.pokemon(p)\n",
    "  except ValueError:\n",
    "    print(\"Cannot find\", p)"
   ]
  },
  {
   "cell_type": "markdown",
   "metadata": {},
   "source": [
    "## Get CSV file for all pokemon info"
   ]
  },
  {
   "cell_type": "code",
   "execution_count": null,
   "metadata": {},
   "outputs": [],
   "source": [
    "# #Only run if you need the DF in the code itself, the cell above should retrieve the file\n",
    "# import re\n",
    "# pokemonList = []\n",
    "# pokemonList.append(['ID', 'Pokemon', 'Legendary', 'Stat Total', 'ATK Sum', 'DEF Sum', 'Height', 'Weight', 'Type 1', 'Type 2'])\n",
    "\n",
    "# for pokemonID in range(1,808):\n",
    "#   pokemon_stats = []\n",
    "#   pokemon_info = pb.pokemon(pokemonID)\n",
    "  \n",
    "#   pokemon_stats.append(pokemonID) # Add ID\n",
    "#   pokemon_stats.append(pokemon_info.name) # Add Name\n",
    "#   pokemon_stats.append(pokemon_info.name in legend_list) # Add Legendary or Not\n",
    "#   pokemon_stats.extend([0,0,0]) # Add categories for stat totals\n",
    "#   pokemon_stats.append(pokemon_info.height) # Add Height\n",
    "#   pokemon_stats.append(pokemon_info.weight) # Add Weight\n",
    "\n",
    "#   print(pokemonID)\n",
    "#   j = 0 # Counter because I didnt want to change my code anymore\n",
    "#   for i in (pokemon_info.stats):\n",
    "#     stringStats = str(i)\n",
    "#     value = [int(s) for s in re.findall(r'\\b\\d+\\b', stringStats)[:1]]\n",
    "#     pokemon_stats[3] += value[0]\n",
    "#     pokemon_stats[4+(j%2)] += value[0]\n",
    "#     j += 1\n",
    "   \n",
    "#   for i in pokemon_info.types:\n",
    "#     stringType = str(i)\n",
    "#     typing = re.findall('\\'name\\': \\'(.+?)\\'', stringType)\n",
    "#     pokemon_stats.append(typing[0])\n",
    "    \n",
    "    \n",
    "#   if len(pokemon_info.types) == 1:\n",
    "#     pokemon_stats.append(\"N/A\")\n",
    "    \n",
    "#   pokemonList.append(pokemon_stats)\n",
    "\n",
    "# statsDF = pd.DataFrame(pokemonList[1:], columns=pokemonList[0])\n",
    "# statsDF.to_csv ('./statsDF.csv', index = None, header=True)\n",
    "\n",
    "# statsDF"
   ]
  },
  {
   "cell_type": "code",
   "execution_count": null,
   "metadata": {},
   "outputs": [],
   "source": [
    "pd.read_csv('statsDF.csv')"
   ]
  },
  {
   "cell_type": "markdown",
   "metadata": {
    "colab_type": "text",
    "id": "dTPd1pXcsIFJ"
   },
   "source": [
    "## Obtain list of types"
   ]
  },
  {
   "cell_type": "code",
   "execution_count": null,
   "metadata": {
    "colab": {},
    "colab_type": "code",
    "id": "GdJIE2NLx5WS"
   },
   "outputs": [],
   "source": [
    "# scrape list of legendary and mystical pokemon from bulbapedia\n",
    "page = requests.get(\"https://bulbapedia.bulbagarden.net/wiki/Type\")\n",
    "soup = BeautifulSoup(page.content, 'html.parser')\n",
    "\n",
    "# list of <a> tags of types\n",
    "a_list = soup.select('td a[title*=(type)]')\n",
    "\n",
    "# extract text from <a> tags\n",
    "type_list = [lp.get_text() for lp in a_list]\n",
    "\n",
    "# ignore ??? type\n",
    "type_list = type_list[:-1]\n",
    "type_list"
   ]
  },
  {
   "cell_type": "code",
   "execution_count": null,
   "metadata": {
    "colab": {
     "base_uri": "https://localhost:8080/",
     "height": 1343
    },
    "colab_type": "code",
    "id": "D8rXnokBUeec",
    "outputId": "702de0f1-5a03-40fd-e10d-964577cc83f6"
   },
   "outputs": [],
   "source": [
    "pstat = []\n",
    "for a in legend_list:\n",
    "  pstat.append()\n",
    "  \n",
    "  \n",
    "  \n",
    "  \n",
    "rayquaza = pb.pokemon('rayquaza')\n",
    "print(rayquaza.height)\n",
    "print(rayquaza.weight)\n",
    "  "
   ]
  },
  {
   "cell_type": "markdown",
   "metadata": {
    "colab_type": "text",
    "id": "gWOOeW9qQ-aJ"
   },
   "source": [
    "## Fetch txt file from Smogon"
   ]
  },
  {
   "cell_type": "code",
   "execution_count": null,
   "metadata": {
    "colab": {},
    "colab_type": "code",
    "id": "UWfTpo7RNpcX"
   },
   "outputs": [],
   "source": [
    "from urllib.request import urlopen\n",
    "import json\n",
    "import pandas as pd\n",
    "\n",
    "data = urlopen(\"https://www.smogon.com/stats/2019-03/gen7ubers-0.txt\")\n",
    "usage = []\n",
    "for line in data:\n",
    "  decoded = line.decode('utf-8')\n",
    "  decoded = decoded.replace(\" \", \"\")\n",
    "  if decoded.startswith('|'):\n",
    "    # usage - weighted based on matchmaking rating\n",
    "    # raw - unweighted usage (on team)\n",
    "    # real - actually used in battle\n",
    "    decodedList = decoded.split('|')[1:-1]\n",
    "    decodedList.pop(2) # remove usage %\n",
    "    decodedList.pop() # remove real\n",
    "    decodedList.pop() # remove real %\n",
    "    usage.append(decodedList)\n",
    "\n",
    "# real - actually used in battle\n",
    "# raw - unweighted usage (on team)\n",
    "# usage - weighted based on matchmaking rating\n",
    "smogon_df = pd.DataFrame(usage[1:], columns=usage[0])\n",
    "smogon_df"
   ]
  },
  {
   "cell_type": "markdown",
   "metadata": {},
   "source": [
    "## Match legendary list to Smogon names"
   ]
  },
  {
   "cell_type": "code",
   "execution_count": null,
   "metadata": {},
   "outputs": [],
   "source": [
    "legend_list_smogon.extend(['deoxys-attack', 'deoxys-defense', 'deoxys-speed'])\n",
    "legend_list_smogon.extend(['giratina-origin'])\n",
    "legend_list_smogon.extend(['shaymin-sky'])\n",
    "legend_list_smogon.extend(['tornadus-therian'])\n",
    "legend_list_smogon.extend(['thundurus-therian'])\n",
    "legend_list_smogon.extend(['landorus-therian'])\n",
    "\n",
    "try:\n",
    "  legend_list_smogon.remove('meltan')\n",
    "except ValueError:\n",
    "  print('Error')\n",
    "\n",
    "try:\n",
    "  legend_list_smogon.remove('melmetal')\n",
    "except ValueError:\n",
    "  print('Error')\n",
    "\n",
    "# smogon pokemon names are captialized\n",
    "legend_list_smogon = [str.title(name) for name in legend_list_smogon]\n",
    "\n",
    "try:\n",
    "  legend_list_smogon.remove('Tapu-Koko')\n",
    "  legend_list_smogon.extend(['TapuKoko'])\n",
    "except ValueError:\n",
    "  print('Error')\n",
    "\n",
    "try:\n",
    "  legend_list_smogon.remove('Tapu-Lele')\n",
    "  legend_list_smogon.extend(['TapuLele'])\n",
    "except ValueError:\n",
    "  print('Error')\n",
    "\n",
    "try:\n",
    "  legend_list_smogon.remove('Tapu-Bulu')\n",
    "  legend_list_smogon.extend(['TapuBulu'])\n",
    "except ValueError:\n",
    "  print('Error')\n",
    "\n",
    "try:\n",
    "  legend_list_smogon.remove('Tapu-Fini')\n",
    "  legend_list_smogon.extend(['TapuFini'])\n",
    "except ValueError:\n",
    "  print('Error')\n",
    "\n",
    "try:\n",
    "  legend_list_smogon.remove('Type-Null')\n",
    "  legend_list_smogon.extend(['Type:Null'])\n",
    "except ValueError:\n",
    "  print('Error')"
   ]
  },
  {
   "cell_type": "markdown",
   "metadata": {
    "colab_type": "text",
    "id": "APqKfds8MJyI"
   },
   "source": [
    "## Use pandas to visualize Smogon competitive usage data"
   ]
  },
  {
   "cell_type": "code",
   "execution_count": null,
   "metadata": {},
   "outputs": [],
   "source": [
    "import math\n",
    "import matplotlib.pyplot as plt"
   ]
  },
  {
   "cell_type": "code",
   "execution_count": null,
   "metadata": {
    "colab": {
     "base_uri": "https://localhost:8080/",
     "height": 1969
    },
    "colab_type": "code",
    "id": "sojCmvSF_URY",
    "outputId": "f626337a-2a19-45e2-ee6c-075a5ae125fc"
   },
   "outputs": [],
   "source": [
    "# print(len(legend_list_smogon)) = 76\n",
    "\n",
    "# convert string to floats\n",
    "smogon_df['Raw'] = smogon_df['Raw'].astype(int)\n",
    "\n",
    "# using legend_list_smogon, split dataframe\n",
    "smogon_legend_df = smogon_df[smogon_df['Pokemon'].str.contains('|'.join(legend_list_smogon))].copy()\n",
    "smogon_legend_df['Rank'] = smogon_legend_df['Rank'].astype(int)\n",
    "smogon_normal_df = smogon_df[-smogon_df['Pokemon'].str.contains('|'.join(legend_list_smogon))].copy()\n",
    "smogon_normal_df['Rank'] = smogon_normal_df['Rank'].astype(int)\n",
    "\n",
    "# plot raw usage of legendaries vs normal\n",
    "smogon_usage_graph_data = [\n",
    "  ['Legendaries', smogon_legend_df['Raw'].sum()],\n",
    "  ['Normal', smogon_normal_df['Raw'].sum()]\n",
    "]\n",
    "smogon_usage_graph_df = pd.DataFrame(smogon_usage_graph_data, columns = ['Type', 'Raw Usage'])\n",
    "ax_smogon_usage = smogon_usage_graph_df.plot.bar(x = 'Type', y = 'Raw Usage', title = 'Smogon Ubers Overall Raw Usage',\n",
    "  legend = False, color = ['orange', 'blue'])\n",
    "ax_smogon_usage.set_xlabel('Type')\n",
    "ax_smogon_usage.set_ylabel('Raw Usage')\n",
    "plt.show()"
   ]
  },
  {
   "cell_type": "markdown",
   "metadata": {},
   "source": [
    "TODO: Talk about overall usage (legendaries > normal)"
   ]
  },
  {
   "cell_type": "code",
   "execution_count": null,
   "metadata": {},
   "outputs": [],
   "source": [
    "# plot raw usage against rank\n",
    "plt.scatter(smogon_df['Rank'], smogon_df['Raw'], color = 'gray')\n",
    "plt.title('Smogon Ubers Rank vs. Raw Usage')\n",
    "plt.xlabel('Rank')\n",
    "plt.ylabel('Raw Usage')\n",
    "plt.xticks([0, *range(99, len(smogon_df), 100)])\n",
    "plt.show()"
   ]
  },
  {
   "cell_type": "markdown",
   "metadata": {},
   "source": [
    "TODO: talk about exponential, and the reason for looking at top x%"
   ]
  },
  {
   "cell_type": "code",
   "execution_count": null,
   "metadata": {},
   "outputs": [],
   "source": [
    "# get the makeup of the top x% used\n",
    "smogon_top_count = math.ceil(len(smogon_df) * 0.1) # used for the cutoffs\n",
    "smogon_num_legend = (smogon_legend_df[smogon_legend_df['Rank'] <= smogon_top_count])['Rank'].size\n",
    "smogon_num_normal = (smogon_normal_df[smogon_normal_df['Rank'] <= smogon_top_count])['Rank'].size\n",
    "smogon_num_graph_data = [\n",
    "  ['Legendaries ({})'.format(smogon_num_legend), smogon_num_legend],\n",
    "  ['Normal ({})'.format(smogon_num_normal), smogon_num_normal]\n",
    "]\n",
    "smogon_num_graph_df = pd.DataFrame(smogon_num_graph_data, columns = ['Type', 'Count'])\n",
    "ax_smogon_num = smogon_num_graph_df.plot.bar(x = 'Type', y = 'Count', title = 'Smogon Ubers Top 10% ({}) Used Composition'.format(smogon_top_count),\n",
    "  legend = False, color = ['orange', 'blue'])\n",
    "ax_smogon_num.set_xlabel('Type')\n",
    "ax_smogon_num.set_ylabel('Number')\n",
    "plt.show()"
   ]
  },
  {
   "cell_type": "markdown",
   "metadata": {},
   "source": [
    "TODO: talk about top x% results (normal > legendary)"
   ]
  }
 ],
 "metadata": {
  "colab": {
   "collapsed_sections": [],
   "name": "FinalProject.ipynb",
   "provenance": [],
   "version": "0.3.2"
  },
  "kernelspec": {
   "display_name": "Python 3",
   "language": "python",
   "name": "python3"
  },
  "language_info": {
   "codemirror_mode": {
    "name": "ipython",
    "version": 3
   },
   "file_extension": ".py",
   "mimetype": "text/x-python",
   "name": "python",
   "nbconvert_exporter": "python",
   "pygments_lexer": "ipython3",
   "version": "3.6.7"
  }
 },
 "nbformat": 4,
 "nbformat_minor": 1
}
