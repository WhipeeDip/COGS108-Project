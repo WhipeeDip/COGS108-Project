{
 "cells": [
  {
   "cell_type": "markdown",
   "metadata": {
    "colab_type": "text",
    "id": "F9bp1r-UK7gk"
   },
   "source": [
    "## Install a pip package in the current Jupyter kernel"
   ]
  },
  {
   "cell_type": "code",
   "execution_count": 1,
   "metadata": {
    "colab": {
     "base_uri": "https://localhost:8080/",
     "height": 119
    },
    "colab_type": "code",
    "id": "n25zgJ5dJfe6",
    "outputId": "a0e4b113-0e3d-4986-b46c-590985033751"
   },
   "outputs": [
    {
     "name": "stdout",
     "output_type": "stream",
     "text": [
      "\u001b[33mThe directory '/home/jovyan/.cache/pip/http' or its parent directory is not owned by the current user and the cache has been disabled. Please check the permissions and owner of that directory. If executing pip with sudo, you may want sudo's -H flag.\u001b[0m\n",
      "\u001b[33mThe directory '/home/jovyan/.cache/pip' or its parent directory is not owned by the current user and caching wheels has been disabled. check the permissions and owner of that directory. If executing pip with sudo, you may want sudo's -H flag.\u001b[0m\n",
      "Collecting pokebase\n",
      "  Downloading https://files.pythonhosted.org/packages/53/46/5f3bd6926dfbf7c8db7eab81af01267d6fec4aee3e88c889d61ada7eabb7/pokebase-1.2.0.tar.gz\n",
      "Requirement already satisfied: requests in /opt/conda/lib/python3.6/site-packages (from pokebase) (2.12.4)\n",
      "Installing collected packages: pokebase\n",
      "  Running setup.py install for pokebase ... \u001b[?25lerror\n",
      "    Complete output from command /opt/conda/bin/python -u -c \"import setuptools, tokenize;__file__='/tmp/pip-install-dhccjgmn/pokebase/setup.py';f=getattr(tokenize, 'open', open)(__file__);code=f.read().replace('\\r\\n', '\\n');f.close();exec(compile(code, __file__, 'exec'))\" install --record /tmp/pip-record-d7qx53mb/install-record.txt --single-version-externally-managed --compile:\n",
      "    running install\n",
      "    running build\n",
      "    running build_py\n",
      "    creating build\n",
      "    creating build/lib\n",
      "    creating build/lib/pokebase\n",
      "    copying pokebase/loaders.py -> build/lib/pokebase\n",
      "    copying pokebase/api.py -> build/lib/pokebase\n",
      "    copying pokebase/__init__.py -> build/lib/pokebase\n",
      "    running install_lib\n",
      "    creating /opt/conda/lib/python3.6/site-packages/pokebase\n",
      "    error: could not create '/opt/conda/lib/python3.6/site-packages/pokebase': Permission denied\n",
      "    \n",
      "    ----------------------------------------\n",
      "\u001b[31mCommand \"/opt/conda/bin/python -u -c \"import setuptools, tokenize;__file__='/tmp/pip-install-dhccjgmn/pokebase/setup.py';f=getattr(tokenize, 'open', open)(__file__);code=f.read().replace('\\r\\n', '\\n');f.close();exec(compile(code, __file__, 'exec'))\" install --record /tmp/pip-record-d7qx53mb/install-record.txt --single-version-externally-managed --compile\" failed with error code 1 in /tmp/pip-install-dhccjgmn/pokebase/\u001b[0m\n",
      "\u001b[?25h"
     ]
    }
   ],
   "source": [
    "import sys\n",
    "!{sys.executable} -m pip install pokebase"
   ]
  },
  {
   "cell_type": "markdown",
   "metadata": {
    "colab_type": "text",
    "id": "zSJfMeuqLKwO"
   },
   "source": [
    "## Import PokeAPI wrapper library for  Python 3"
   ]
  },
  {
   "cell_type": "code",
   "execution_count": 2,
   "metadata": {
    "colab": {},
    "colab_type": "code",
    "id": "Ogj8ptAyKGme"
   },
   "outputs": [
    {
     "ename": "ModuleNotFoundError",
     "evalue": "No module named 'pokebase'",
     "output_type": "error",
     "traceback": [
      "\u001b[0;31m---------------------------------------------------------------------------\u001b[0m",
      "\u001b[0;31mModuleNotFoundError\u001b[0m                       Traceback (most recent call last)",
      "\u001b[0;32m<ipython-input-2-20e65dc9c263>\u001b[0m in \u001b[0;36m<module>\u001b[0;34m()\u001b[0m\n\u001b[0;32m----> 1\u001b[0;31m \u001b[0;32mimport\u001b[0m \u001b[0mpokebase\u001b[0m \u001b[0;32mas\u001b[0m \u001b[0mpb\u001b[0m\u001b[0;34m\u001b[0m\u001b[0;34m\u001b[0m\u001b[0m\n\u001b[0m",
      "\u001b[0;31mModuleNotFoundError\u001b[0m: No module named 'pokebase'"
     ]
    }
   ],
   "source": [
    "import pokebase as pb"
   ]
  },
  {
   "cell_type": "markdown",
   "metadata": {
    "colab_type": "text",
    "id": "rkBRF98VLXKt"
   },
   "source": [
    "## Quick lookup"
   ]
  },
  {
   "cell_type": "code",
   "execution_count": null,
   "metadata": {
    "colab": {
     "base_uri": "https://localhost:8080/",
     "height": 51
    },
    "colab_type": "code",
    "id": "QdiKqT0tKh4X",
    "outputId": "4263c285-aed7-41d4-d869-e9d758a96bf9"
   },
   "outputs": [],
   "source": [
    "rayquaza = pb.pokemon('rayquaza')\n",
    "print(rayquaza.height)\n",
    "print(rayquaza.weight)\n"
   ]
  },
  {
   "cell_type": "code",
   "execution_count": null,
   "metadata": {
    "colab": {
     "base_uri": "https://localhost:8080/",
     "height": 51
    },
    "colab_type": "code",
    "id": "u5w1Wm40KrYX",
    "outputId": "60b08c20-fefe-4ccb-824d-fe5dbaf69111"
   },
   "outputs": [],
   "source": [
    "rayquaza.types"
   ]
  },
  {
   "cell_type": "code",
   "execution_count": 3,
   "metadata": {
    "colab": {
     "base_uri": "https://localhost:8080/",
     "height": 119
    },
    "colab_type": "code",
    "id": "p1pDOgHyNdaH",
    "outputId": "97f4d1e7-49c9-454e-cf1f-490e7f11a1c4"
   },
   "outputs": [
    {
     "ename": "NameError",
     "evalue": "name 'rayquaza' is not defined",
     "output_type": "error",
     "traceback": [
      "\u001b[0;31m---------------------------------------------------------------------------\u001b[0m",
      "\u001b[0;31mNameError\u001b[0m                                 Traceback (most recent call last)",
      "\u001b[0;32m<ipython-input-3-48199ce543a3>\u001b[0m in \u001b[0;36m<module>\u001b[0;34m()\u001b[0m\n\u001b[0;32m----> 1\u001b[0;31m \u001b[0mrayquaza\u001b[0m\u001b[0;34m.\u001b[0m\u001b[0mstats\u001b[0m\u001b[0;34m\u001b[0m\u001b[0;34m\u001b[0m\u001b[0m\n\u001b[0m",
      "\u001b[0;31mNameError\u001b[0m: name 'rayquaza' is not defined"
     ]
    }
   ],
   "source": [
    "rayquaza.stats"
   ]
  },
  {
   "cell_type": "markdown",
   "metadata": {
    "colab_type": "text",
    "id": "gWOOeW9qQ-aJ"
   },
   "source": [
    "## Fetch txt file from Smogon"
   ]
  },
  {
   "cell_type": "code",
   "execution_count": null,
   "metadata": {
    "colab": {},
    "colab_type": "code",
    "id": "UWfTpo7RNpcX"
   },
   "outputs": [],
   "source": [
    "from urllib.request import urlopen\n",
    "import json\n",
    "\n",
    "data = urlopen(\"https://www.smogon.com/stats/2019-03/gen7ubers-0.txt\")\n",
    "usage = []\n",
    "for line in data:\n",
    "  decoded = line.decode('utf-8')\n",
    "  decoded = decoded.replace(\" \", \"\")\n",
    "  if decoded.startswith('|'):\n",
    "    usage.append(decoded.split('|')[1:-1])"
   ]
  },
  {
   "cell_type": "code",
   "execution_count": null,
   "metadata": {
    "colab": {
     "base_uri": "https://localhost:8080/",
     "height": 16609
    },
    "colab_type": "code",
    "id": "zrXz1ZouQPQr",
    "outputId": "40dae1c5-5449-4de5-c5d5-fcda034beab6"
   },
   "outputs": [],
   "source": [
    "usage"
   ]
  },
  {
   "cell_type": "markdown",
   "metadata": {
    "colab_type": "text",
    "id": "APqKfds8MJyI"
   },
   "source": [
    "## Use pandas to visualize Smogon competitive usage data"
   ]
  },
  {
   "cell_type": "code",
   "execution_count": null,
   "metadata": {
    "colab": {},
    "colab_type": "code",
    "id": "pnPa2rFL_Jqj"
   },
   "outputs": [],
   "source": [
    "import pandas as pd"
   ]
  },
  {
   "cell_type": "code",
   "execution_count": null,
   "metadata": {
    "colab": {
     "base_uri": "https://localhost:8080/",
     "height": 1969
    },
    "colab_type": "code",
    "id": "sojCmvSF_URY",
    "outputId": "f626337a-2a19-45e2-ee6c-075a5ae125fc"
   },
   "outputs": [],
   "source": [
    "smogon_df = pd.DataFrame(usage[1:], columns=usage[0])\n",
    "smogon_df\n",
    "\n",
    "# usage - weighted based on matchmaking rating\n",
    "# raw - unweighted usage (on team)\n",
    "# real - actually used in battle"
   ]
  },
  {
   "cell_type": "code",
   "execution_count": null,
   "metadata": {},
   "outputs": [],
   "source": [
    "statsDic = {}\n",
    "for pokemon in smogon_df['Pokemon']:\n",
    "  pokemon_stats = []\n",
    "  pokemon_info = pb.pokemon(pokemon.lower())\n",
    "  for i in (pokemon_info.stats):\n",
    "    pokemon_stats.append(str(i)[14:17])\n",
    "  statsDic[pokemon] = pokemon_stats\n"
   ]
  },
  {
   "cell_type": "markdown",
   "metadata": {
    "colab_type": "text",
    "id": "MHxfVJQfJIkf"
   },
   "source": [
    "## Obtain list of legendary and mystical pokemon from Bulbapedia"
   ]
  },
  {
   "cell_type": "code",
   "execution_count": null,
   "metadata": {
    "colab": {
     "base_uri": "https://localhost:8080/",
     "height": 1207
    },
    "colab_type": "code",
    "id": "ZBpves8WAUAh",
    "outputId": "7500dcc4-5053-43e3-be23-1e6fad9d2283"
   },
   "outputs": [],
   "source": [
    "import requests\n",
    "from bs4 import BeautifulSoup\n",
    "\n",
    "# scrape list of legendary and mystical pokemon from bulbapedia\n",
    "page = requests.get(\"https://bulbapedia.bulbagarden.net/wiki/Legendary_Pok%C3%A9mon\")\n",
    "soup = BeautifulSoup(page.content, 'html.parser')\n",
    "\n",
    "# list of <a> tags of legendary pokemon\n",
    "a_list = soup.select('td a[title*=(Pokémon)]')\n",
    "\n",
    "# extract text from <a> tags\n",
    "legend_list = [lp.get_text() for lp in a_list]\n",
    "\n",
    "# data cleaning: replace whitespace with hyphen, remove colon\n",
    "legend_list = [p.lower().replace(' ', '-').replace(':', '') for p in legend_list]\n",
    "legend_list"
   ]
  },
  {
   "cell_type": "markdown",
   "metadata": {},
   "source": [
    "## Get itemized list for pokemon stats"
   ]
  },
  {
   "cell_type": "code",
   "execution_count": null,
   "metadata": {},
   "outputs": [],
   "source": [
    "import re\n",
    "pokemonList = []\n",
    "pokemonList.append(['ID', 'Pokemon', 'Legendary', 'Stat Total', 'ATK Sum', 'DEF Sum', 'Height', 'Weight'])\n",
    "\n",
    "for pokemonID in range(1,100):\n",
    "  pokemon_stats = []\n",
    "  pokemon_info = pb.pokemon(pokemonID)\n",
    "  \n",
    "  pokemon_stats.append(pokemonID) # Add ID\n",
    "  pokemon_stats.append(pokemon_info.name) # Add Name\n",
    "  pokemon_stats.append(pokemon_info.name in legend_list) # Add Legendary or Not\n",
    "  pokemon_stats.extend([0,1,2]) # Add categories for stat totals\n",
    "  pokemon_stats.append(pokemon_info.height) # Add Height\n",
    "  pokemon_stats.append(pokemon_info.weight) # Add Weight\n",
    "\n",
    "  j = 0 # Counter because I didnt want to change my code anymore\n",
    "  for i in (pokemon_info.stats):\n",
    "    stringStats = str(i)\n",
    "    value = [int(s) for s in re.findall(r'\\b\\d+\\b', stringStats)[0:20]]\n",
    "    pokemon_stats[2] += value[0]\n",
    "    pokemon_stats[3+(j%2)] += value[0]\n",
    "    j += 1\n",
    "    \n",
    "  pokemonList.append(pokemon_stats)\n",
    "\n",
    "statsDF = pd.DataFrame(pokemonList[1:], columns=pokemonList[0])\n",
    "statsDF\n",
    " "
   ]
  },
  {
   "cell_type": "markdown",
   "metadata": {
    "colab_type": "text",
    "id": "JdrXsuZlKc26"
   },
   "source": [
    "## After scraping and cleaning, test for validity by searching for each name in the API"
   ]
  },
  {
   "cell_type": "code",
   "execution_count": null,
   "metadata": {
    "colab": {
     "base_uri": "https://localhost:8080/",
     "height": 187
    },
    "colab_type": "code",
    "id": "mMAUfppCG8v6",
    "outputId": "4e7dac0f-f86c-42e2-fddf-a1cf766653db"
   },
   "outputs": [],
   "source": [
    "for p in legend_list:\n",
    "  try:\n",
    "    pb.pokemon(p)\n",
    "  except ValueError:\n",
    "    print(\"Cannot find\", p)"
   ]
  },
  {
   "cell_type": "markdown",
   "metadata": {
    "colab_type": "text",
    "id": "wcgNG2SGLcI_"
   },
   "source": [
    "## The above Pokemon have alternate forms and we must handle each manually\n",
    "\n",
    "P.S. Meltan and Melmetal haven't been added to the database at the moment. https://github.com/PokeAPI/pokeapi/issues/414"
   ]
  },
  {
   "cell_type": "code",
   "execution_count": null,
   "metadata": {
    "colab": {},
    "colab_type": "code",
    "id": "LQwJAJZ7J2Ah"
   },
   "outputs": [],
   "source": [
    "# deoxys: deoxys-normal, deoxys-attack, deoxys-defense, deoxys-speed\n",
    "try:\n",
    "  legend_list.remove('deoxys')\n",
    "  legend_list.extend(['deoxys-normal', 'deoxys-attack', 'deoxys-defense', 'deoxys-speed'])\n",
    "except ValueError:\n",
    "  print('Error')\n",
    "\n",
    "# giratina: giratina-altered, giratina-origin\n",
    "try:\n",
    "  legend_list.remove('giratina')\n",
    "  legend_list.extend(['giratina-altered', 'giratina-origin'])\n",
    "except ValueError:\n",
    "  print('Error')\n",
    "\n",
    "# shaymin: shaymin-land, shaymin-sky\n",
    "try:\n",
    "  legend_list.remove('shaymin')\n",
    "  legend_list.extend(['shaymin-land', 'shaymin-sky'])\n",
    "except ValueError:\n",
    "  print('Error')\n",
    "\n",
    "# tornadus: tornadus-incarnate, tornadus-therian\n",
    "try:\n",
    "  legend_list.remove('tornadus')\n",
    "  legend_list.extend(['tornadus-incarnate', 'tornadus-therian'])\n",
    "except ValueError:\n",
    "  print('Error')\n",
    "\n",
    "# thundurus: thundurus-incarnate, thundurus-therian\n",
    "try:\n",
    "  legend_list.remove('thundurus')\n",
    "  legend_list.extend(['thundurus-incarnate', 'thundurus-therian'])\n",
    "except ValueError:\n",
    "  print('Error')\n",
    "\n",
    "# landorus: landorus-incarnate, landorus-therian\n",
    "try:\n",
    "  legend_list.remove('landorus')\n",
    "  legend_list.extend(['landorus-incarnate', 'landorus-therian'])\n",
    "except ValueError:\n",
    "  print('Error')\n",
    "\n",
    "# keldeo: keldeo-ordinary, keldeo-resolute\n",
    "try:\n",
    "  legend_list.remove('keldeo')\n",
    "  legend_list.extend(['keldeo-ordinary', 'keldeo-resolute'])\n",
    "except ValueError:\n",
    "  print('Error')\n",
    "\n",
    "# meloetta: meloetta-aria, meloetta-pirouette\n",
    "try:\n",
    "  legend_list.remove('meloetta')\n",
    "  legend_list.extend(['meloetta-aria', 'meloetta-pirouette'])\n",
    "except ValueError:\n",
    "  print('Error')\n",
    "\n",
    "# meltan: remove for now\n",
    "try:\n",
    "  legend_list.remove('meltan')\n",
    "except ValueError:\n",
    "  print('Error')\n",
    "\n",
    "# melmetal: remove for now\n",
    "try:\n",
    "  legend_list.remove('melmetal')\n",
    "except ValueError:\n",
    "  print('Error')"
   ]
  },
  {
   "cell_type": "markdown",
   "metadata": {
    "colab_type": "text",
    "id": "5BZbiJRxTzPm"
   },
   "source": [
    "## Test again for validity"
   ]
  },
  {
   "cell_type": "code",
   "execution_count": null,
   "metadata": {
    "colab": {},
    "colab_type": "code",
    "id": "U9STW874Q1Hy"
   },
   "outputs": [],
   "source": [
    "for p in legend_list:\n",
    "  try:\n",
    "    pb.pokemon(p)\n",
    "  except ValueError:\n",
    "    print(\"Cannot find\", p)"
   ]
  },
  {
   "cell_type": "markdown",
   "metadata": {
    "colab_type": "text",
    "id": "dTPd1pXcsIFJ"
   },
   "source": [
    "## Obtain list of types"
   ]
  },
  {
   "cell_type": "code",
   "execution_count": null,
   "metadata": {
    "colab": {},
    "colab_type": "code",
    "id": "GdJIE2NLx5WS"
   },
   "outputs": [],
   "source": [
    "# scrape list of legendary and mystical pokemon from bulbapedia\n",
    "page = requests.get(\"https://bulbapedia.bulbagarden.net/wiki/Type\")\n",
    "soup = BeautifulSoup(page.content, 'html.parser')\n",
    "\n",
    "# list of <a> tags of types\n",
    "a_list = soup.select('td a[title*=(type)]')\n",
    "\n",
    "# extract text from <a> tags\n",
    "type_list = [lp.get_text() for lp in a_list]\n",
    "\n",
    "# ignore ??? type\n",
    "type_list = type_list[:-1]\n",
    "type_list"
   ]
  },
  {
   "cell_type": "code",
   "execution_count": null,
   "metadata": {
    "colab": {
     "base_uri": "https://localhost:8080/",
     "height": 1343
    },
    "colab_type": "code",
    "id": "D8rXnokBUeec",
    "outputId": "702de0f1-5a03-40fd-e10d-964577cc83f6"
   },
   "outputs": [],
   "source": [
    "pstat = []\n",
    "for a in legend_list:\n",
    "  pstat.append()\n",
    "  \n",
    "  \n",
    "  \n",
    "  \n",
    "rayquaza = pb.pokemon('rayquaza')\n",
    "print(rayquaza.height)\n",
    "print(rayquaza.weight)\n",
    "  "
   ]
  }
 ],
 "metadata": {
  "colab": {
   "collapsed_sections": [],
   "name": "FinalProject.ipynb",
   "provenance": [],
   "version": "0.3.2"
  },
  "kernelspec": {
   "display_name": "Python 3",
   "language": "python",
   "name": "python3"
  },
  "language_info": {
   "codemirror_mode": {
    "name": "ipython",
    "version": 3
   },
   "file_extension": ".py",
   "mimetype": "text/x-python",
   "name": "python",
   "nbconvert_exporter": "python",
   "pygments_lexer": "ipython3",
   "version": "3.6.7"
  }
 },
 "nbformat": 4,
 "nbformat_minor": 1
}
